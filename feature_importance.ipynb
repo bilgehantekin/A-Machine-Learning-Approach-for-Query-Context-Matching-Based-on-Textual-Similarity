{
 "cells": [
  {
   "cell_type": "code",
   "execution_count": null,
   "id": "initial_id",
   "metadata": {
    "collapsed": true
   },
   "outputs": [],
   "source": [
    "import matplotlib.pyplot as plt\n",
    "\n",
    "# Özellik isimlerini ve önem skorlarını al\n",
    "feature_names = X_train_meta.columns\n",
    "importances = xgb_clf.feature_importances_\n",
    "\n",
    "# DataFrame olarak sırala\n",
    "importance_df = pd.DataFrame({\n",
    "    \"Feature\": feature_names,\n",
    "    \"Importance\": importances\n",
    "}).sort_values(by=\"Importance\", ascending=False)\n",
    "\n",
    "# Görselleştir\n",
    "plt.figure(figsize=(8, 5))\n",
    "plt.barh(importance_df[\"Feature\"], importance_df[\"Importance\"], color='purple')\n",
    "plt.xlabel(\"Importance Score\")\n",
    "plt.title(\"Feature Importance (XGBoost)\")\n",
    "plt.gca().invert_yaxis()\n",
    "plt.tight_layout()\n",
    "\n",
    "# PNG olarak kaydet\n",
    "plt.savefig(\"feature_importance_xgboost.png\", dpi=300)\n",
    "plt.show()\n"
   ]
  }
 ],
 "metadata": {
  "kernelspec": {
   "display_name": "Python 3",
   "language": "python",
   "name": "python3"
  },
  "language_info": {
   "codemirror_mode": {
    "name": "ipython",
    "version": 2
   },
   "file_extension": ".py",
   "mimetype": "text/x-python",
   "name": "python",
   "nbconvert_exporter": "python",
   "pygments_lexer": "ipython2",
   "version": "2.7.6"
  }
 },
 "nbformat": 4,
 "nbformat_minor": 5
}
