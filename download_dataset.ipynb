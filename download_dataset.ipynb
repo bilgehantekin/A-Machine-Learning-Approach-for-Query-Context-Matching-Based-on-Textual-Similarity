{
 "cells": [
  {
   "cell_type": "code",
   "execution_count": null,
   "id": "initial_id",
   "metadata": {
    "collapsed": true
   },
   "outputs": [],
   "source": [
    "from datasets import load_dataset\n",
    "import pandas as pd\n",
    "\n",
    "# WikiQA veri kümesini yükle\n",
    "dataset = load_dataset(\"microsoft/wiki_qa\")\n",
    "\n",
    "# Eğitim, doğrulama ve test setlerini ayrı ayrı al ve CSV'ye kaydet\n",
    "for split in ['train', 'validation', 'test']:\n",
    "    df = pd.DataFrame(dataset[split])\n",
    "    df.to_csv(f\"wikiqa_{split}.csv\", index=False)\n",
    "\n",
    "print(\"Veri başarıyla CSV dosyalarına kaydedildi.\")\n"
   ]
  }
 ],
 "metadata": {
  "kernelspec": {
   "display_name": "Python 3",
   "language": "python",
   "name": "python3"
  },
  "language_info": {
   "codemirror_mode": {
    "name": "ipython",
    "version": 2
   },
   "file_extension": ".py",
   "mimetype": "text/x-python",
   "name": "python",
   "nbconvert_exporter": "python",
   "pygments_lexer": "ipython2",
   "version": "2.7.6"
  }
 },
 "nbformat": 4,
 "nbformat_minor": 5
}
