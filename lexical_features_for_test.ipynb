{
 "cells": [
  {
   "cell_type": "code",
   "execution_count": null,
   "id": "initial_id",
   "metadata": {
    "collapsed": true
   },
   "outputs": [],
   "source": [
    "import pandas as pd\n",
    "import spacy\n",
    "from sklearn.feature_extraction.text import TfidfVectorizer\n",
    "from sklearn.metrics.pairwise import cosine_similarity\n",
    "\n",
    "# SpaCy yükle\n",
    "nlp = spacy.load(\"en_core_web_sm\")\n",
    "\n",
    "# Anahtar kelimeleri (noun, verb, adj) çıkar\n",
    "def extract_keywords_spacy(text):\n",
    "    doc = nlp(text)\n",
    "    keywords = [token.text.lower() for token in doc if token.pos_ in [\"NOUN\", \"VERB\", \"ADJ\"] and not token.is_stop]\n",
    "    return set(keywords)\n",
    "\n",
    "# Keyword overlap oranı\n",
    "def keyword_overlap_spacy(q, a):\n",
    "    q_kw = extract_keywords_spacy(q)\n",
    "    a_kw = extract_keywords_spacy(a)\n",
    "    if len(q_kw.union(a_kw)) == 0:\n",
    "        return 0.0\n",
    "    return len(q_kw.intersection(a_kw)) / len(q_kw.union(a_kw))\n",
    "\n",
    "# Veriyi yükle\n",
    "text_df = pd.read_csv(\"wikiqa_test.csv\").reset_index(drop=True)\n",
    "embed_df = pd.read_csv(\"advanced_embedding_features_test.csv\").reset_index(drop=True)\n",
    "\n",
    "# Keyword overlap hesapla\n",
    "print(\"🔁 SpaCy keyword overlap hesaplanıyor...\")\n",
    "text_df[\"keyword_overlap\"] = text_df.apply(lambda row: keyword_overlap_spacy(row[\"question\"], row[\"answer\"]), axis=1)\n",
    "\n",
    "# TF-IDF cosine similarity hesapla\n",
    "print(\"🔁 TF-IDF cosine similarity hesaplanıyor...\")\n",
    "tfidf = TfidfVectorizer().fit(text_df[\"question\"].tolist() + text_df[\"answer\"].tolist())\n",
    "q_vecs = tfidf.transform(text_df[\"question\"])\n",
    "a_vecs = tfidf.transform(text_df[\"answer\"])\n",
    "text_df[\"tfidf_cosine\"] = [cosine_similarity(q, a)[0][0] for q, a in zip(q_vecs, a_vecs)]\n",
    "\n",
    "# Özellikleri birleştir\n",
    "final_df = pd.concat([embed_df, text_df[[\"keyword_overlap\", \"tfidf_cosine\"]]], axis=1)\n",
    "\n",
    "# CSV olarak kaydet\n",
    "final_df.to_csv(\"final_feature_set_test.csv\", index=False)\n",
    "print(\"✅ final_feature_set_test.csv başarıyla oluşturuldu.\")"
   ]
  }
 ],
 "metadata": {
  "kernelspec": {
   "display_name": "Python 3",
   "language": "python",
   "name": "python3"
  },
  "language_info": {
   "codemirror_mode": {
    "name": "ipython",
    "version": 2
   },
   "file_extension": ".py",
   "mimetype": "text/x-python",
   "name": "python",
   "nbconvert_exporter": "python",
   "pygments_lexer": "ipython2",
   "version": "2.7.6"
  }
 },
 "nbformat": 4,
 "nbformat_minor": 5
}
